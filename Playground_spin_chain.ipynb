{
  "nbformat": 4,
  "nbformat_minor": 0,
  "metadata": {
    "colab": {
      "name": "Spin chain.ipynb",
      "provenance": [],
      "collapsed_sections": []
    },
    "kernelspec": {
      "display_name": "Python 3",
      "language": "python",
      "name": "python3"
    },
    "language_info": {
      "codemirror_mode": {
        "name": "ipython",
        "version": 3
      },
      "file_extension": ".py",
      "mimetype": "text/x-python",
      "name": "python",
      "nbconvert_exporter": "python",
      "pygments_lexer": "ipython3",
      "version": "3.7.4"
    }
  },
  "cells": [
    {
      "cell_type": "code",
      "metadata": {
        "id": "96cEPRvwQYm-",
        "outputId": "6752b5cd-1770-43f5-dd8d-ca73d65709b8",
        "colab": {
          "base_uri": "https://localhost:8080/",
          "height": 420
        }
      },
      "source": [
        "!git clone --single-branch --branch 'simplified-version' 'https://github.com/LuchnikovI/Dynamic-mode-decomposition-for-open-quantum-systems-identification'\n",
        "%cd 'Dynamic-mode-decomposition-for-open-quantum-systems-identification'\n",
        "!pip install qutip\n",
        "\n",
        "import math\n",
        "import tensorflow as tf\n",
        "import matplotlib.pyplot as plt\n",
        "from qutip import *\n",
        "import numpy as np\n",
        "\n",
        "from nmd_finite_env import FiniteEnv\n",
        "from embedding import Embedding\n",
        "\n",
        "#from mixed_dynamics import generate_dynamics"
      ],
      "execution_count": 1,
      "outputs": [
        {
          "output_type": "stream",
          "text": [
            "Cloning into 'Dynamic-mode-decomposition-for-open-quantum-systems-identification'...\n",
            "remote: Enumerating objects: 173, done.\u001b[K\n",
            "remote: Counting objects: 100% (173/173), done.\u001b[K\n",
            "remote: Compressing objects: 100% (132/132), done.\u001b[K\n",
            "remote: Total 173 (delta 97), reused 103 (delta 41), pack-reused 0\u001b[K\n",
            "Receiving objects: 100% (173/173), 833.30 KiB | 2.30 MiB/s, done.\n",
            "Resolving deltas: 100% (97/97), done.\n",
            "/content/Dynamic-mode-decomposition-for-open-quantum-systems-identification\n",
            "Collecting qutip\n",
            "\u001b[?25l  Downloading https://files.pythonhosted.org/packages/71/94/c79bd57137320657c3acc8e7a08d3c66dcf9d697e594e945fbc905dfec42/qutip-4.5.2.tar.gz (3.4MB)\n",
            "\u001b[K     |████████████████████████████████| 3.4MB 5.3MB/s \n",
            "\u001b[?25h  Installing build dependencies ... \u001b[?25l\u001b[?25hdone\n",
            "  Getting requirements to build wheel ... \u001b[?25l\u001b[?25hdone\n",
            "    Preparing wheel metadata ... \u001b[?25l\u001b[?25hdone\n",
            "Requirement already satisfied: cython>=0.21 in /usr/local/lib/python3.6/dist-packages (from qutip) (0.29.21)\n",
            "Requirement already satisfied: numpy>=1.12 in /usr/local/lib/python3.6/dist-packages (from qutip) (1.18.5)\n",
            "Requirement already satisfied: scipy>=1.0 in /usr/local/lib/python3.6/dist-packages (from qutip) (1.4.1)\n",
            "Building wheels for collected packages: qutip\n",
            "  Building wheel for qutip (PEP 517) ... \u001b[?25l\u001b[?25hdone\n",
            "  Created wheel for qutip: filename=qutip-4.5.2-cp36-cp36m-linux_x86_64.whl size=12468130 sha256=d61f0151cfb3bd4f105e7acf8770591cfd82c6d92f13f91903c66fc35f529f82\n",
            "  Stored in directory: /root/.cache/pip/wheels/ae/90/e9/f26fdecfb6c0e9d9d6f5fa564d16d26ff2bdfd8ad6e7a8a28a\n",
            "Successfully built qutip\n",
            "Installing collected packages: qutip\n",
            "Successfully installed qutip-4.5.2\n"
          ],
          "name": "stdout"
        }
      ]
    },
    {
      "cell_type": "markdown",
      "metadata": {
        "id": "K9hNaiK2MysQ"
      },
      "source": [
        "Hamiltonian:\n",
        "$\\displaystyle H = - \\frac{1}{2}\\sum_n^N h_n \\sigma_z(n) - \\frac{1}{2} \\sum_n^{N-1} [ J_x^{(n)} \\sigma_x(n) \\sigma_x(n+1) + J_y^{(n)} \\sigma_y(n) \\sigma_y(n+1) +J_z^{(n)} \\sigma_z(n) \\sigma_z(n+1)]$\n",
        "\n",
        "\n",
        "\n"
      ]
    },
    {
      "cell_type": "code",
      "metadata": {
        "id": "0FIMUEz09CNa"
      },
      "source": [
        "class SpinChain:\n",
        "    ''' This class provides trajectories for spin chain evolution.\n",
        "    Args:\n",
        "        N: spins amount\n",
        "        solver: 'me' - ODE solver, 'mc' - Monte-Carlo solver\n",
        "        ntraj: number of trajectories for 'mc' solver\n",
        "    '''\n",
        "    def __init__(self, N=3, solver='me', ntraj=1):\n",
        "        self.N = N\n",
        "        self.solver = solver\n",
        "        self.ntraj = ntraj\n",
        "        self.h = None\n",
        "        self.Jx = None\n",
        "        self.Jy = None\n",
        "        self.Jz = None\n",
        "        self.gamma = None\n",
        "    \n",
        "    def pauli(self):\n",
        "        '''\n",
        "        Create Pauli matrices for the system.\n",
        "        Output: \n",
        "            sx, sy, sz with shapes (N, 2**N, 2**N)\n",
        "        '''\n",
        "        si = qeye(2)\n",
        "        sx = sigmax()\n",
        "        sy = sigmay()\n",
        "        sz = sigmaz()\n",
        "\n",
        "        sx_list = []\n",
        "        sy_list = []\n",
        "        sz_list = []\n",
        "\n",
        "        for n in range(self.N):\n",
        "            op_list = []\n",
        "            for m in range(self.N):\n",
        "                op_list.append(si)\n",
        "\n",
        "            op_list[n] = sx\n",
        "            sx_list.append(tensor(op_list))\n",
        "\n",
        "            op_list[n] = sy\n",
        "            sy_list.append(tensor(op_list))\n",
        "\n",
        "            op_list[n] = sz\n",
        "            sz_list.append(tensor(op_list))\n",
        "\n",
        "        return sx_list, sy_list, sz_list\n",
        "    \n",
        "    def set_problem(self, **kwargs):\n",
        "        '''\n",
        "        Setting Hamiltonian and initial conditions.\n",
        "        Args:\n",
        "            Kwargs: 'h', 'Jx', 'Jy', 'Jz', 'gamma', 'psi0'\n",
        "        '''\n",
        "        # array of spin energy splittings and coupling strengths. here we use\n",
        "        # uniform parameters, but in general we don't have too\n",
        "        self.h  = 1.0 * 2 * np.pi * np.ones(self.N) \n",
        "        self.Jz = 0.1 * 2 * np.pi * np.ones(self.N)\n",
        "        self.Jx = 0.1 * 2 * np.pi * np.ones(self.N)\n",
        "        self.Jy = 0.1 * 2 * np.pi * np.ones(self.N)\n",
        " \n",
        "        # dephasing rate\n",
        "        self.gamma = 0.01 * np.ones(self.N)\n",
        " \n",
        "        # intial state, first spin in state |1>, the rest in state |0>\n",
        "        psi_list = []\n",
        "        psi_list.append(basis(2,1))\n",
        "        for n in range(self.N-1):\n",
        "            psi_list.append(basis(2,0))\n",
        "        self.psi0 = tensor(psi_list)\n",
        "        \n",
        "        # kwargs parsing\n",
        "        for key, value in kwargs.items():\n",
        "            if key == 'h':\n",
        "                self.h = value\n",
        "            if key == 'Jx':\n",
        "                self.Jx = value\n",
        "            if key == 'Jy':\n",
        "                self.Jy = value\n",
        "            if key == 'Jz':\n",
        "                self.Jz = value\n",
        "            if key == 'gamma':\n",
        "                self.gamma = value\n",
        "            if key == 'psi0':\n",
        "                self.psi0 = value\n",
        "\n",
        "    def solve(self, total_time=50, steps=200):\n",
        "        '''\n",
        "        Calculation trajectories for spin chain\n",
        "        Input:\n",
        "            total_time: simulation time, ns\n",
        "            steps: number of time steps\n",
        "        Output:\n",
        "            density matrices of shape (ntraj, steps, 2**N, 2**N)\n",
        "\n",
        "        '''\n",
        "        # array of timesteps\n",
        "        tlist = np.linspace(0, total_time, steps)\n",
        "\n",
        "        # compute Pauli matrices\n",
        "        sx_list, sy_list, sz_list = self.pauli()\n",
        "        # construct the hamiltonian\n",
        "        H = 0\n",
        "        # energy splitting terms\n",
        "        for n in range(self.N):\n",
        "            H += - 0.5 * self.h[n] * sz_list[n]\n",
        "\n",
        "        # interaction terms\n",
        "        for n in range(self.N-1):\n",
        "            H += - 0.5 * self.Jx[n] * sx_list[n] * sx_list[n+1]\n",
        "            H += - 0.5 * self.Jy[n] * sy_list[n] * sy_list[n+1]\n",
        "            H += - 0.5 * self.Jz[n] * sz_list[n] * sz_list[n+1]\n",
        "\n",
        "        # collapse operators\n",
        "        c_op_list = []\n",
        "\n",
        "        # spin dephasing\n",
        "        for n in range(self.N):\n",
        "            if self.gamma[n] > 0.0:\n",
        "                c_op_list.append(np.sqrt(self.gamma[n]) * sz_list[n])\n",
        "\n",
        "        # evolve and calculate expectation values\n",
        "        if self.solver == \"me\":\n",
        "            kets = mesolve(H, self.psi0, tlist, c_op_list)\n",
        "            states = kets.states\n",
        "            dens = []\n",
        "            for t in range(steps):\n",
        "                ket = states[t].full()\n",
        "                bra = states[t].dag().full()\n",
        "                dens.append(bra*ket)\n",
        "            dens = np.array(dens)[tf.newaxis]\n",
        "        elif self.solver == \"mc\":\n",
        "            kets = mcsolve(H, self.psi0, tlist, c_op_list, ntraj=self.ntraj)\n",
        "            states = kets.states\n",
        "            dens = []\n",
        "            for traj in range(self.ntraj):\n",
        "                arr = []\n",
        "                for t in range(steps):\n",
        "                    ket = states[traj, t].full()\n",
        "                    bra = states[traj, t].dag().full()\n",
        "                    arr.append(bra*ket)\n",
        "                dens.append(arr)\n",
        "            dens = np.array(dens)\n",
        "        return dens   \n",
        "    def sigma(self, dens, axis='z'):\n",
        "        '''\n",
        "        Returns product of density matrix over Pauli matrix.\n",
        "        Args:\n",
        "            density: density matrixes of shape (ntraj, steps, 2**N, 2**N)\n",
        "            axis: given Pauli matrix ('x', 'y', 'z')\n",
        "        Output:\n",
        "            sigma_{'axis'} of shape (ntraj, steps, N)\n",
        "        '''\n",
        "        sx_list, sy_list, sz_list = self.pauli()\n",
        "        if axis == 'x':\n",
        "            A = tf.concat([sx_list[i].full()[tf.newaxis] \n",
        "                           for i in range(self.N)], axis=0)\n",
        "        if axis == 'y':\n",
        "            A = tf.concat([sy_list[i].full()[tf.newaxis] \n",
        "                           for i in range(self.N)], axis=0)\n",
        "        if axis == 'z':\n",
        "            A = tf.concat([sz_list[i].full()[tf.newaxis] \n",
        "                           for i in range(self.N)], axis=0)\n",
        "            \n",
        "        return tf.tensordot(dens, A, [[2, 3], [2, 1]])\n",
        "        \n"
      ],
      "execution_count": 38,
      "outputs": []
    },
    {
      "cell_type": "markdown",
      "metadata": {
        "id": "m8Yh0dD2QZdf"
      },
      "source": [
        "Spin chain evolution"
      ]
    },
    {
      "cell_type": "code",
      "metadata": {
        "id": "bqEWQ6Jk-Wlc"
      },
      "source": [
        "#------------------------Parameters--------------------------#\n",
        "N = 3 # number of spins\n",
        "#------------------------------------------------------------#\n",
        "# Problem setting\n",
        "prob = SpinChain(N=N)\n",
        "# Setting Hamiltonian and inital state\n",
        "prob.set_problem()\n",
        "# Integration\n",
        "dens = prob.solve()"
      ],
      "execution_count": 109,
      "outputs": []
    },
    {
      "cell_type": "markdown",
      "metadata": {
        "id": "cnKth6PVQdtv"
      },
      "source": [
        "DMD"
      ]
    },
    {
      "cell_type": "code",
      "metadata": {
        "id": "SU7y1E1KSHtj"
      },
      "source": [
        "#------------------------Parameters--------------------------#\n",
        "K = 10  # memory depth\n",
        "eps = 1e-6  # tolerance\n",
        "#------------------------------------------------------------#\n",
        "# embedding\n",
        "emb = Embedding()\n",
        "# learn embedding\n",
        "emb.learn(dens, K, eps)\n",
        "# min rank\n",
        "rank = emb.rank"
      ],
      "execution_count": 100,
      "outputs": []
    },
    {
      "cell_type": "markdown",
      "metadata": {
        "id": "X2f940PAY7dq"
      },
      "source": [
        "Performance of DMD compression"
      ]
    },
    {
      "cell_type": "code",
      "metadata": {
        "id": "1HRbWvTKY619",
        "outputId": "b0130e3c-2558-4c9a-9995-93bfa0ef0ccb",
        "colab": {
          "base_uri": "https://localhost:8080/",
          "height": 349
        }
      },
      "source": [
        "# Calculation sigma_z for true trajectories\n",
        "sigma_z_train = prob.sigma(dens)\n",
        "# Calculation sigma_z for DMD reconstructed trajectories\n",
        "sigma_z_train_DMD = prob.sigma(tf.concat(\n",
        "    [dens[0,:K-1], emb.predict(dens[0,:K], dens.shape[1])],\n",
        "    axis=0)[tf.newaxis])\n",
        "# Plotting\n",
        "plt.plot(sigma_z_train[0,:,0])\n",
        "plt.plot(sigma_z_train_DMD[0,:,0],'x')"
      ],
      "execution_count": 107,
      "outputs": [
        {
          "output_type": "stream",
          "text": [
            "/usr/local/lib/python3.6/dist-packages/numpy/core/_asarray.py:85: ComplexWarning: Casting complex values to real discards the imaginary part\n",
            "  return array(a, dtype, copy=False, order=order)\n",
            "/usr/local/lib/python3.6/dist-packages/numpy/core/_asarray.py:85: ComplexWarning: Casting complex values to real discards the imaginary part\n",
            "  return array(a, dtype, copy=False, order=order)\n"
          ],
          "name": "stderr"
        },
        {
          "output_type": "execute_result",
          "data": {
            "text/plain": [
              "[<matplotlib.lines.Line2D at 0x7fb09779ce48>]"
            ]
          },
          "metadata": {
            "tags": []
          },
          "execution_count": 107
        },
        {
          "output_type": "display_data",
          "data": {
            "image/png": "[encoded data removed]",
            "text/plain": [
              "<Figure size 432x288 with 1 Axes>"
            ]
          },
          "metadata": {
            "tags": [],
            "needs_background": "light"
          }
        }
      ]
    },
    {
      "cell_type": "markdown",
      "metadata": {
        "id": "2JdDWzkfW07e"
      },
      "source": [
        "Testing DMD performance: trajectory based on another initial data"
      ]
    },
    {
      "cell_type": "code",
      "metadata": {
        "id": "gZ60WKIzWcPJ",
        "outputId": "68a60665-4933-41df-9c87-556fdd556d2c",
        "colab": {
          "base_uri": "https://localhost:8080/",
          "height": 349
        }
      },
      "source": [
        "# intial state, second spin in state |1>, the rest in state |0>\n",
        "psi_list = []\n",
        "psi_list.append(basis(2,0)) # state |0>\n",
        "psi_list.append(basis(2,1)) # state |1>\n",
        "for n in range(N-2):\n",
        "    psi_list.append(basis(2,0))\n",
        "psi0 = tensor(psi_list)\n",
        "\n",
        "# calculation trajectory with new initial data psi0\n",
        "prob.set_problem(psi0=psi0) # update of problem initial state\n",
        "dens_test = prob.solve() # integration\n",
        "\n",
        "# Calculation sigma_z for true trajectories\n",
        "sigma_z_test = prob.sigma(dens_test)\n",
        "# Calculation sigma_z for DMD reconstructed trajectories\n",
        "sigma_z_test_DMD = prob.sigma(tf.concat(\n",
        "    [dens_test[0,:K-1], emb.predict(dens_test[0,:K], dens_test.shape[1])],\n",
        "    axis=0)[tf.newaxis])\n",
        "# Plotting\n",
        "plt.plot(sigma_z_test[0,:,0])\n",
        "plt.plot(sigma_z_test_DMD[0,:,0],'x')"
      ],
      "execution_count": 111,
      "outputs": [
        {
          "output_type": "stream",
          "text": [
            "/usr/local/lib/python3.6/dist-packages/numpy/core/_asarray.py:85: ComplexWarning: Casting complex values to real discards the imaginary part\n",
            "  return array(a, dtype, copy=False, order=order)\n",
            "/usr/local/lib/python3.6/dist-packages/numpy/core/_asarray.py:85: ComplexWarning: Casting complex values to real discards the imaginary part\n",
            "  return array(a, dtype, copy=False, order=order)\n"
          ],
          "name": "stderr"
        },
        {
          "output_type": "execute_result",
          "data": {
            "text/plain": [
              "[<matplotlib.lines.Line2D at 0x7fb097525e10>]"
            ]
          },
          "metadata": {
            "tags": []
          },
          "execution_count": 111
        },
        {
          "output_type": "display_data",
          "data": {
            "image/png": "[encoded data removed]",
            "text/plain": [
              "<Figure size 432x288 with 1 Axes>"
            ]
          },
          "metadata": {
            "tags": [],
            "needs_background": "light"
          }
        }
      ]
    }
  ]
}